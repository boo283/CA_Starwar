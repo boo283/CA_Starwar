{
 "cells": [
  {
   "cell_type": "code",
   "execution_count": 1,
   "metadata": {},
   "outputs": [],
   "source": [
    "import time\n",
    "import pyautogui\n",
    "import json\n",
    "import pandas as pd\n",
    "import time\n",
    "import numpy as np\n",
    "from selenium import webdriver\n",
    "from selenium.webdriver.support.ui import WebDriverWait\n",
    "from selenium.webdriver.support import expected_conditions as EC\n",
    "from selenium.webdriver.chrome.options import Options\n",
    "from selenium.webdriver.chrome.service import Service\n",
    "from selenium.webdriver.common.by import By\n",
    "from selenium.webdriver.common.keys import Keys\n",
    "import unicodedata\n",
    "import random\n",
    "from selenium.webdriver.common.action_chains import ActionChains\n",
    "from utils import *"
   ]
  },
  {
   "cell_type": "code",
   "execution_count": 2,
   "metadata": {},
   "outputs": [],
   "source": [
    "def configure_driver():\n",
    "    #Configurations\n",
    "\n",
    "     # Đường dẫn đến WebDriver\n",
    "    webdriver_path = \".\\\\chromedriver.exe\"\n",
    "    chrome_options = Options()\n",
    "\n",
    "    # Tắt thông báo Chrome - chặn pop-up\n",
    "    chrome_options.add_argument(\"--disable-notifications\")\n",
    "    chrome_options.add_argument(\"--start-maximized\")\n",
    "    #chrome_options.add_argument('--window-size=800,600')\n",
    "    # Đặt vị trí cửa sổ ở ngoài màn hình chính\n",
    "    #chrome_options.add_argument('--window-position=2000,0')\n",
    "    #chrome_options.add_extension(\"F:\\GlobalTech\\Stands AdBlocker - Chrome Web Store 2.1.24.0.crx\")\n",
    "\n",
    "    # Sử dụng profile đã có sẵn: \n",
    "    # để lưu trạng thái đăng nhập + dùng tool chặn quảng cáo set up sẵn trên Chrome\n",
    "    # user_profile = \"C:\\\\Users\\\\21521\\\\AppData\\\\Local\\\\Google\\\\Chrome\\\\User Data\\\\Profile 5\"\n",
    "    # chrome_options.add_argument(\"user-data-dir=\" + user_profile)\n",
    "\n",
    "    # (Tùy chọn) Chạy Chrome ở chế độ không hiển thị giao diện (chạy ngầm)\n",
    "    #chrome_options.add_argument(\"--headless\")\n",
    "\n",
    "    # Khởi tạo dịch vụ và trình duyệt\n",
    "    service = Service(webdriver_path)\n",
    "    driver = webdriver.Chrome(service=service, options=chrome_options)\n",
    "\n",
    "    return driver"
   ]
  },
  {
   "cell_type": "code",
   "execution_count": 3,
   "metadata": {},
   "outputs": [],
   "source": [
    "def zoom_out_browser():\n",
    "    # Đợi một chút để đảm bảo trình duyệt đã mở hoàn toàn\n",
    "    time.sleep(2)\n",
    "    \n",
    "    # Thực hiện thao tác Ctrl và dấu trừ 3 lần để thu nhỏ\n",
    "    for _ in range(5):\n",
    "        pyautogui.hotkey('ctrl', '-')\n",
    "        time.sleep(0.5)"
   ]
  },
  {
   "cell_type": "code",
   "execution_count": 4,
   "metadata": {},
   "outputs": [],
   "source": [
    "def fill_in_in4(driver, ele, data):\n",
    "    try:\n",
    "        driver.find_element(By.CSS_SELECTOR, ele).send_keys(data)\n",
    "    except Exception as e:\n",
    "        print(e)"
   ]
  },
  {
   "cell_type": "code",
   "execution_count": 5,
   "metadata": {},
   "outputs": [],
   "source": [
    "def login(driver, email, password):\n",
    "    domain = \"https://starawards.vn/login#form\"\n",
    "    driver.get(domain)\n",
    "    time.sleep(5)\n",
    "    zoom_out_browser()\n",
    "    #fill in email\n",
    "    driver.find_element(By.CSS_SELECTOR, \"input[type='text'][name='email']\").send_keys(email)\n",
    "\n",
    "    #fill in password\n",
    "    driver.find_element(By.CSS_SELECTOR, \"input[type='password'][name='password']\").send_keys(password)\n",
    "    #click login\n",
    "    time.sleep(3)\n",
    "    driver.find_element(By.CSS_SELECTOR, \"button[type='submit'][name='loginBtnSubmit']\").click()"
   ]
  },
  {
   "cell_type": "code",
   "execution_count": null,
   "metadata": {},
   "outputs": [],
   "source": [
    "# acc = 'dangducphat064@gmail.com'\n",
    "# pw = '12345678aB'\n",
    "# driver = configure_driver()\n",
    "# login(driver,acc,pw)"
   ]
  },
  {
   "cell_type": "code",
   "execution_count": 7,
   "metadata": {},
   "outputs": [
    {
     "name": "stdout",
     "output_type": "stream",
     "text": [
      "Unnamed: 0.2                        1046\n",
      "Unnamed: 0.1                        1046\n",
      "Unnamed: 0                          1046\n",
      "STT                                 4715\n",
      "masv                            22521064\n",
      "hoten                      Đặng Đức Phát\n",
      "dienthoai                      934180928\n",
      "sdt                           0934180928\n",
      "hoten_upper                ĐẶNG ĐỨC PHÁT\n",
      "chuyennganh            An toàn thông tin\n",
      "nganhnghe         Procurement (Mua Hàng)\n",
      "ngaysinh                      02/22/2004\n",
      "password                      12345678aB\n",
      "namtotnghiep                        2026\n",
      "created                                0\n",
      "login_test                             0\n",
      "email           dangducphat064@gmail.com\n",
      "done                                   0\n",
      "solanthi                               0\n",
      "Name: 136, dtype: object\n"
     ]
    }
   ],
   "source": [
    "if __name__ == '__main__':\n",
    "\n",
    "    data = pd.read_excel(\"data.xlsx\")\n",
    "    #data = data[data['created'] == 0]\n",
    "    data['sdt']=data['sdt'].apply(add_0_sdt)\n",
    "    cnt = 0\n",
    "\n",
    "    for row in reversed(list(data.iterrows())):\n",
    "        if data.loc[row[0], 'created'] == 1 or data.loc[row[0], 'created'] == '1':\n",
    "            continue\n",
    "        try:\n",
    "            driver=configure_driver()\n",
    "\n",
    "            register_url = 'https://starawards.vn/register#form'\n",
    "            #driver.get(register_url)\n",
    "            zoom_out_browser()\n",
    "            personal_data = row[1]\n",
    "            print(personal_data)\n",
    "            time.sleep(1000)\n",
    "            # if create_account(driver, personal_data):\n",
    "            #     #change created status to 1\n",
    "            #     #data.loc[row[0], 'created'] = 1\n",
    "            #     print('Successfully')\n",
    "            #     with open('su_success.txt', 'a') as f:\n",
    "            #         f.write(f\"{data.loc[row[0], 'masv']}\\n\")\n",
    "            # else:\n",
    "            #     print(\"Failed\")\n",
    "            #     time.sleep(3)\n",
    "            #     with open('su_failed.txt', 'a') as f:\n",
    "            #         f.write(f\"{data.loc[row[0], 'masv']}\\n\")\n",
    "\n",
    "            # # write log\n",
    "\n",
    "            driver.delete_all_cookies()\n",
    "            #driver.refresh()\n",
    "            \n",
    "            sleep(2)\n",
    "        except KeyboardInterrupt:\n",
    "            break\n",
    "        except:\n",
    "            continue"
   ]
  }
 ],
 "metadata": {
  "kernelspec": {
   "display_name": "Python 3",
   "language": "python",
   "name": "python3"
  },
  "language_info": {
   "codemirror_mode": {
    "name": "ipython",
    "version": 3
   },
   "file_extension": ".py",
   "mimetype": "text/x-python",
   "name": "python",
   "nbconvert_exporter": "python",
   "pygments_lexer": "ipython3",
   "version": "3.9.13"
  }
 },
 "nbformat": 4,
 "nbformat_minor": 2
}
